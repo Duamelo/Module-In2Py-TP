{
 "cells": [
  {
   "cell_type": "markdown",
   "id": "1cd76c13",
   "metadata": {},
   "source": [
    "Exercice 1"
   ]
  },
  {
   "cell_type": "code",
   "execution_count": 62,
   "id": "4c6d80fe",
   "metadata": {},
   "outputs": [
    {
     "name": "stdout",
     "output_type": "stream",
     "text": [
      "Entre un entier naturel : \t1\n",
      "la somme est :  0\n",
      "le produit est :  3\n"
     ]
    }
   ],
   "source": [
    "n = int(input(\"Entre un entier naturel : \\t\"))\n",
    "somme_i_plus_trois = 0\n",
    "produit_i_plus_trois = 1\n",
    "if n < 0:\n",
    "    while(n < 0):\n",
    "        print(n,'est négatif: \\t')\n",
    "        n = int(input(\"Entre un entier naturel : \\t\"))\n",
    "for i in  range(n):\n",
    "    if i%2 != 0:\n",
    "        somme_i_plus_trois += (i+3)\n",
    "    else :\n",
    "        produit_i_plus_trois *= (i + 3)\n",
    "print('la somme est : ',somme_i_plus_trois)\n",
    "print('le produit est : ',produit_i_plus_trois)"
   ]
  },
  {
   "cell_type": "markdown",
   "id": "d664983d",
   "metadata": {},
   "source": [
    "Exercice 2"
   ]
  },
  {
   "cell_type": "code",
   "execution_count": 55,
   "id": "d7143488",
   "metadata": {},
   "outputs": [
    {
     "name": "stdout",
     "output_type": "stream",
     "text": [
      "Entre le numéro du jour : \t-9\n",
      "le numéro doit être entre 0 et 6 : \t\n",
      "Entre le numéro du jour : \t9\n",
      "le numéro doit être entre 0 et 6 : \t\n",
      "Entre le numéro du jour : \t10\n",
      "le numéro doit être entre 0 et 6 : \t\n",
      "Entre le numéro du jour : \t5\n",
      "Weekend\n"
     ]
    }
   ],
   "source": [
    "week_days = [\"lundi\", \"mardi\", \"mercredi\", \"jeudi\", \"vendredi\", \"samedi\", \"dimanche\"]\n",
    "day_numbers = [0,1,2,3,4,5,6]\n",
    "indice = 0\n",
    "number = int(input(\"Entre le numéro du jour : \\t\"))\n",
    "\n",
    "if ((number < 0) or (number > 6)):\n",
    "    while ((number < 0) or (number > 6)):\n",
    "        print('le numéro doit être entre 0 et 6 : \\t')\n",
    "        number = int(input(\"Entre le numéro du jour : \\t\"))\n",
    "if number in range(5):\n",
    "    for i, value in zip(day_numbers, week_days):\n",
    "        if number == i:\n",
    "            print('le jour correspondant est : ', week_days[i])  \n",
    "else :\n",
    "    print(\"Weekend\")"
   ]
  },
  {
   "cell_type": "markdown",
   "id": "447a72ee",
   "metadata": {},
   "source": [
    "Exercice 3"
   ]
  },
  {
   "cell_type": "code",
   "execution_count": 65,
   "id": "3ca8a397",
   "metadata": {},
   "outputs": [
    {
     "name": "stdout",
     "output_type": "stream",
     "text": [
      "Entre un entier entre 0 et 11 compris : \t11\n",
      "le mois de  Décembre a 28 jours\n"
     ]
    }
   ],
   "source": [
    "month_names = [\"Janvier\", \"Février\", \"Mars\", \"Avril\", \"Mai\", \"Juin\", \"Juillet\", \"Août\", \"Septembre\", \"Octobre\", \"Novembre\", \"Décembre\"]\n",
    "month_names_with_30days = [\"Avril\", \"Juin\", \"Septembre\",\"Novembre\"]\n",
    "month_names_with_31days = [\"Janvier\", \"Mars\", \"Mai\", \"Juillet\", \"Août\", \"Octobre\"]\n",
    "month_numbers = [0,1,2,3,4,5,6,7,8,9,10,11]\n",
    "\n",
    "number = int(input(\"Entre un entier entre 0 et 11 compris : \\t\"))\n",
    "\n",
    "if ( (number < 0) or (number >11)):\n",
    "    while( (number < 0) or (number >11) ):\n",
    "        print(\"le nombre doit être compris entre 0 et 11 \\t\")\n",
    "        number = int(input(\"Entre un entier entre 0 et 11 compris : \\t\"))\n",
    "if number in month_numbers:\n",
    "    for i, month in zip (month_numbers, month_names):\n",
    "        if number == i:\n",
    "            if month_names[i] in month_names_with_30days:\n",
    "                print('le mois de ', month_names[i], 'a 30 jours')\n",
    "            elif month_names[i] in month_names_with_31days:\n",
    "                print('le mois de ', month_names[i], 'a 31 jours')\n",
    "            else :\n",
    "                print('le mois de ', month_names[i], 'a 28 jours')"
   ]
  },
  {
   "cell_type": "markdown",
   "id": "f38674f3",
   "metadata": {},
   "source": [
    "Exercice 4"
   ]
  },
  {
   "cell_type": "code",
   "execution_count": 73,
   "id": "cd7ad3fc",
   "metadata": {},
   "outputs": [
    {
     "name": "stdout",
     "output_type": "stream",
     "text": [
      "David DOSSEH\n",
      "David DOSSEH\n",
      "David DOSSEH\n",
      "==========================autre possibilité==============================\n",
      "David DOSSEH\n",
      "David DOSSEH\n",
      "David DOSSEH\n"
     ]
    }
   ],
   "source": [
    "cmp = 1\n",
    "for i in range(3):\n",
    "    print(\"David DOSSEH\")\n",
    "    \n",
    "print(\"==========================autre possibilité==============================\")\n",
    "while cmp <= 3 :\n",
    "    print(\"David DOSSEH\")\n",
    "    cmp +=1\n"
   ]
  },
  {
   "cell_type": "markdown",
   "id": "dfe440f7",
   "metadata": {},
   "source": [
    "Exercice 5"
   ]
  },
  {
   "cell_type": "code",
   "execution_count": null,
   "id": "a0a5904b",
   "metadata": {},
   "outputs": [],
   "source": [
    "U_0 = int(input(\"Entre la première valeur U0 : \\t\"))\n",
    "\n",
    "if U_0 < 0:\n",
    "    while U_0 < 0:\n",
    "        print(\"Entre un entier positif : \\t\")\n",
    "        U_0 = int(input(\"Entre la première valeur U0 : \\t\"))\n",
    "\n",
    "U_1 = int(input(\"Entre la première valeur U1 : \\t\"))\n",
    "\n",
    "if U_1 < 0:\n",
    "    while U_1 < 0:\n",
    "        print(\"Entre un entier positif : \\t\")\n",
    "        U_1 = int(input(\"Entre la première valeur U1 : \\t\"))\n",
    "for i in range(2,18):\n",
    "    \n",
    "    print('U_',i,' = ', )\n"
   ]
  },
  {
   "cell_type": "markdown",
   "id": "97ce83b3",
   "metadata": {},
   "source": [
    "Exercice 6"
   ]
  },
  {
   "cell_type": "code",
   "execution_count": 2,
   "id": "449df2b5",
   "metadata": {},
   "outputs": [
    {
     "name": "stdout",
     "output_type": "stream",
     "text": [
      "Entre la première valeur : \t1\n",
      "Entre la deuxième valeur : \t2\n"
     ]
    },
    {
     "data": {
      "text/plain": [
       "[1.0,\n",
       " 2.0,\n",
       " 4.0,\n",
       " 8.0,\n",
       " 16.0,\n",
       " 32.0,\n",
       " 64.0,\n",
       " 128.0,\n",
       " 256.0,\n",
       " 512.0,\n",
       " 1024.0,\n",
       " 2048.0,\n",
       " 4096.0,\n",
       " 8192.0,\n",
       " 16384.0,\n",
       " 32768.0,\n",
       " 65536.0]"
      ]
     },
     "execution_count": 2,
     "metadata": {},
     "output_type": "execute_result"
    }
   ],
   "source": [
    "L = list()\n",
    "x_zero = float(input(\"Entre la première valeur : \\t\"))\n",
    "x_un = float(input(\"Entre la deuxième valeur : \\t\"))\n",
    "L.extend([x_zero, x_un])\n",
    "\n",
    "for i in range(0, 15):\n",
    "    x_next = 1/2 * (6*L[i] + L[i+1])\n",
    "    L.append(x_next)\n",
    "L"
   ]
  },
  {
   "cell_type": "markdown",
   "id": "d8104b63",
   "metadata": {},
   "source": [
    "Exercice 7"
   ]
  },
  {
   "cell_type": "code",
   "execution_count": null,
   "id": "956fa61f",
   "metadata": {},
   "outputs": [],
   "source": [
    "annee = int(input(\"Entre une année \"))\n",
    "\n",
    "if annee < 0:\n",
    "    while annee < 0:\n",
    "        print(\"L'année doit être un entier positif \\t\")\n",
    "        annee = int(input(\"Entre une année\")\n",
    "if (annee % 4 == 0):\n",
    "    print(annee,'est une année bissextile')\n",
    "else:\n",
    "    print(annee,\"n'est pas une année bissextile\")\n",
    "\n"
   ]
  },
  {
   "cell_type": "markdown",
   "id": "e56d2ad4",
   "metadata": {},
   "source": [
    "Exercice 8"
   ]
  },
  {
   "cell_type": "code",
   "execution_count": null,
   "id": "5f384575",
   "metadata": {},
   "outputs": [],
   "source": [
    "\n",
    "print(\"=========================for loop============================\")\n",
    "n = int(input(\"Entre un naturel n : \\t\"))\n",
    "somme = 0\n",
    "if n < 0:\n",
    "    while n<0:\n",
    "        n = int(input(\"Entre un naturel n : \\t\"))\n",
    "for i in range(n):\n",
    "    somme += pow(i,2)\n",
    "print(somme)\n",
    "\n",
    "print(\"=========================while loop============================\")\n",
    "\n",
    "\n",
    "n = int(input(\"Entre un naturel n : \\t\"))\n",
    "somme = 0\n",
    "j=0\n",
    "if n < 0:\n",
    "    while n<0:\n",
    "        n = int(input(\"Entre un naturel n : \\t\"))\n",
    "while j<=n:\n",
    "    somme += pow(j,2)\n",
    "    j = j + 1\n",
    "print(somme)\n",
    "\n"
   ]
  },
  {
   "cell_type": "markdown",
   "id": "3ed310a2",
   "metadata": {},
   "source": [
    "Exercice 9"
   ]
  },
  {
   "cell_type": "code",
   "execution_count": null,
   "id": "f87c1446",
   "metadata": {},
   "outputs": [],
   "source": [
    "L = list()\n",
    "L_premier = list()\n",
    "i = 1\n",
    "number = int(input(\"Entre un entier : \\t\"))\n",
    "if number<0:\n",
    "    while(number<0):\n",
    "        print('le nombre doit être positif')\n",
    "        number = int(input(\"Entre un entier : \\t\"))\n",
    "while i <= number:\n",
    "    if number % i == 0:\n",
    "        L.append(i)\n",
    "        print(i, 'est un diviseur de ', number)\n",
    "for j in len(L):\n",
    "    for k in range(2, L[j]):\n",
    "        if L[j] % k == 0\n",
    "            break\n",
    "        L_premier.append(L[j])\n",
    "\n",
    "        \n",
    "L_premier"
   ]
  },
  {
   "cell_type": "markdown",
   "id": "d25be431",
   "metadata": {},
   "source": [
    "Exercice 10"
   ]
  },
  {
   "cell_type": "code",
   "execution_count": null,
   "id": "3787e117",
   "metadata": {},
   "outputs": [],
   "source": [
    "n = int(input(\"Entre un entier dont on veut établir la table de multiplication : \\t\"))\n",
    "if ( (n<0 or n >9)):\n",
    "    print(\"l'entier doit être compris entre 0 et 9\")\n",
    "    n = int(input(\"Entre un entier dont on veut établir la table de multiplication : \\t\"))\n",
    "N = int(input(\"Entre le plus grand multiplicateur : \\t\"))\n",
    "\n",
    "if N<0:\n",
    "    print(\"Entre un entier positif \\t\")\n",
    "    N = int(input(\"Entre le plus grand multiplicateur : \\t\"))\n",
    "for i in range(N+1):\n",
    "    print(n * i)"
   ]
  },
  {
   "cell_type": "markdown",
   "id": "ae587d04",
   "metadata": {},
   "source": [
    "Exercice 11"
   ]
  },
  {
   "cell_type": "code",
   "execution_count": null,
   "id": "3f11291f",
   "metadata": {},
   "outputs": [],
   "source": [
    "for i in range(41):\n",
    "    if ( (3 % i == 0) or (7 % i == 0) or (11 % i == 0) ):\n",
    "        print(i)\n",
    "        "
   ]
  },
  {
   "cell_type": "markdown",
   "id": "6824b72e",
   "metadata": {},
   "source": [
    "Exercice 12"
   ]
  },
  {
   "cell_type": "code",
   "execution_count": null,
   "id": "4b060344",
   "metadata": {},
   "outputs": [],
   "source": [
    "number = float(input(\"Entre le nombre dont tu veux la partie entière : \\t\"))\n",
    "\n",
    "partie_entiere = int(number)\n",
    "\n",
    "print(partie_entiere)"
   ]
  },
  {
   "cell_type": "markdown",
   "id": "feec6fc1",
   "metadata": {},
   "source": [
    "Exercice 13"
   ]
  },
  {
   "cell_type": "code",
   "execution_count": null,
   "id": "110205de",
   "metadata": {},
   "outputs": [],
   "source": [
    "Q = 'a'\n",
    "while(Q != 'q'):\n",
    "    x = float(input(\"Entre l'abscisse du point : \\t\"))\n",
    "    y = float(input(\"Entre l'ordonnée du point : \\t\"))\n",
    "\n",
    "    if(( x < 0) and (y < 0)):\n",
    "        print('ce point est dans le premier cadran \\t')\n",
    "    elif((x > 0) and (y > 0)):\n",
    "        print('ce point est dans le deuxième cadran \\t')\n",
    "    elif((x < 0) and (y < 0)):\n",
    "        print('ce point est dans le troisième cadran \\t ')\n",
    "    elif( (x > 0) and (y < 0)):\n",
    "        print('ce point est dans le quatrième cadran \\t')\n",
    "    else:\n",
    "        print(\"ce point a l'un de ses coordonnées sur un des axes\")\n",
    "    Q = input(\"Entre q pour quitter le programme\")"
   ]
  },
  {
   "cell_type": "markdown",
   "id": "1d0ddc3b",
   "metadata": {},
   "source": [
    "Exercice 14"
   ]
  },
  {
   "cell_type": "code",
   "execution_count": null,
   "id": "3561aa30",
   "metadata": {},
   "outputs": [],
   "source": [
    "Q = ''\n",
    "while(Q !='q'):\n",
    "    x = int(input(\"Entre un nombre compris entre 0 et 9 :\"))\n",
    "\n",
    "    if ( (x < 0) or (x >9)):\n",
    "            x = int(input(\"Entre un nombre compris entre 0 et 9 :\"))\n",
    "    max = int(input(\"Entre un nombre compris entre 0 et 255:\"))\n",
    "    if ( (max < 0) or (max >256)):\n",
    "            max = int(input(\"Entre un nombre compris entre 0 et 255 :\"))\n",
    "    for i in range(256):\n",
    "        if (i%x == 0):\n",
    "            print(i)\n",
    "    print(\"Voulez-vous quitter le programme ? (q pour quitter)\")\n",
    "    "
   ]
  }
 ],
 "metadata": {
  "kernelspec": {
   "display_name": "Python 3",
   "language": "python",
   "name": "python3"
  },
  "language_info": {
   "codemirror_mode": {
    "name": "ipython",
    "version": 3
   },
   "file_extension": ".py",
   "mimetype": "text/x-python",
   "name": "python",
   "nbconvert_exporter": "python",
   "pygments_lexer": "ipython3",
   "version": "3.8.5"
  }
 },
 "nbformat": 4,
 "nbformat_minor": 5
}
