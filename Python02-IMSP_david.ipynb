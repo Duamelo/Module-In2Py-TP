{
 "cells": [
  {
   "cell_type": "markdown",
   "id": "6edcddd5",
   "metadata": {},
   "source": [
    "Exercice 1"
   ]
  },
  {
   "cell_type": "code",
   "execution_count": 11,
   "id": "a134b9a0",
   "metadata": {},
   "outputs": [
    {
     "name": "stdout",
     "output_type": "stream",
     "text": [
      "Entrez la valeur de x :4\n",
      "Entrer la valeur de y: 6\n"
     ]
    },
    {
     "data": {
      "text/plain": [
       "-828.9323383531355"
      ]
     },
     "execution_count": 11,
     "metadata": {},
     "output_type": "execute_result"
    }
   ],
   "source": [
    "import math\n",
    "\n",
    "x = float(input(\"Entrez la valeur de x :\"))\n",
    "y = float(input(\"Entrer la valeur de y: \"))\n",
    "\n",
    "expression = ( pow(x**(2+y), 0.5))/ (1/x + 2 * math.sin(y))\n",
    "\n",
    "expression"
   ]
  },
  {
   "cell_type": "markdown",
   "id": "7fd582ca",
   "metadata": {},
   "source": [
    "Exercice 2"
   ]
  },
  {
   "cell_type": "code",
   "execution_count": 59,
   "id": "f44266dd",
   "metadata": {},
   "outputs": [],
   "source": [
    "def ownpowerfn():\n",
    "    resultat = 1\n",
    "    b = int(input(\"Entre la valeur de b : \\t\"))\n",
    "    \n",
    "    n = int(input(\"Entre la valeur de n : \\t\"))\n",
    "    if n < 0:\n",
    "        while(n<0):\n",
    "            print(\"La valeur de n doit être positive; veuillez entrer à nouveau:\\t\")\n",
    "            n = int(input(\"Entre la valeur de n : \\t\"))\n",
    "    \n",
    "    for i in range(1,n):\n",
    "        resultat *=n\n",
    "    print(resultat)"
   ]
  },
  {
   "cell_type": "code",
   "execution_count": 61,
   "id": "1367ef0c",
   "metadata": {},
   "outputs": [
    {
     "name": "stdout",
     "output_type": "stream",
     "text": [
      "Entre la valeur de b : \t2\n",
      "Entre la valeur de n : \t3\n",
      "9\n"
     ]
    }
   ],
   "source": [
    "ownpowerfn()"
   ]
  },
  {
   "cell_type": "markdown",
   "id": "6187b7ec",
   "metadata": {},
   "source": [
    "Exercice 3"
   ]
  },
  {
   "cell_type": "code",
   "execution_count": 24,
   "id": "4780efcf",
   "metadata": {},
   "outputs": [],
   "source": [
    "def arithmetic_mean(x, y):\n",
    "    moy_arith = (x + y)/2\n",
    "    print('La moyenne arithmétique de', x, 'et', y, 'est :' )\n",
    "    print(moy_arith)"
   ]
  },
  {
   "cell_type": "code",
   "execution_count": 25,
   "id": "7d0bea22",
   "metadata": {},
   "outputs": [
    {
     "name": "stdout",
     "output_type": "stream",
     "text": [
      "La moyenne arithmétique de 2 et 3 est :\n",
      "2.5\n"
     ]
    }
   ],
   "source": [
    "arithmetic_mean(2,3)"
   ]
  },
  {
   "cell_type": "code",
   "execution_count": 26,
   "id": "d60b5ec3",
   "metadata": {},
   "outputs": [],
   "source": [
    "import math\n",
    "def geometric_mean(a, b):\n",
    "    moy_geo = pow(a*b, 0.5)\n",
    "    print('La moyenne géométrique de ',a, 'et',b, 'est :')\n",
    "    print(moy_geo)"
   ]
  },
  {
   "cell_type": "code",
   "execution_count": 27,
   "id": "876b1e4d",
   "metadata": {},
   "outputs": [
    {
     "name": "stdout",
     "output_type": "stream",
     "text": [
      "La moyenne géométrique de  4 et 69 est :\n",
      "16.61324772583615\n"
     ]
    }
   ],
   "source": [
    "geometric_mean(4,69)"
   ]
  },
  {
   "cell_type": "code",
   "execution_count": 35,
   "id": "b1451131",
   "metadata": {},
   "outputs": [],
   "source": [
    "def celcius_to_fahrenheit(celcius):\n",
    "    fahren = ( celcius * 9/5) + 32\n",
    "    print(celcius, 'en fahrenheit donne :', fahren)"
   ]
  },
  {
   "cell_type": "code",
   "execution_count": 36,
   "id": "225860ca",
   "metadata": {},
   "outputs": [
    {
     "name": "stdout",
     "output_type": "stream",
     "text": [
      "25 en fahrenheit donne : 77.0\n"
     ]
    }
   ],
   "source": [
    "celcius_to_fahrenheit(25)"
   ]
  },
  {
   "cell_type": "code",
   "execution_count": 32,
   "id": "9a731c7c",
   "metadata": {},
   "outputs": [],
   "source": [
    "def fahrenheit_to_celcius(fahren):\n",
    "    celcius = ( fahren - 32) * 5/9\n",
    "    print(fahren, 'en fahrenheit donne :', celcius)"
   ]
  },
  {
   "cell_type": "code",
   "execution_count": 33,
   "id": "11b37ada",
   "metadata": {},
   "outputs": [
    {
     "name": "stdout",
     "output_type": "stream",
     "text": [
      "45 en fahrenheit donne : 7.222222222222222\n"
     ]
    }
   ],
   "source": [
    "fahrenheit_to_celcius(45)"
   ]
  },
  {
   "cell_type": "code",
   "execution_count": 38,
   "id": "9b792e25",
   "metadata": {},
   "outputs": [],
   "source": [
    "def degrees_to_radians(degree):\n",
    "    radian = degree * math.pi/180\n",
    "    print(degree,'en radian donne :', radian)\n",
    "    "
   ]
  },
  {
   "cell_type": "code",
   "execution_count": 40,
   "id": "d0aebe44",
   "metadata": {},
   "outputs": [
    {
     "name": "stdout",
     "output_type": "stream",
     "text": [
      "2 en radian donne : 0.03490658503988659\n"
     ]
    }
   ],
   "source": [
    "degrees_to_radians(2)"
   ]
  },
  {
   "cell_type": "code",
   "execution_count": 47,
   "id": "526b04fc",
   "metadata": {},
   "outputs": [],
   "source": [
    "def radians_to_degrees(radians):\n",
    "    degree = radians * 180/math.pi\n",
    "    print(radians,'en radian donne :', degree)"
   ]
  },
  {
   "cell_type": "code",
   "execution_count": 48,
   "id": "dfa425b8",
   "metadata": {},
   "outputs": [
    {
     "name": "stdout",
     "output_type": "stream",
     "text": [
      "14 en radian donne : 802.1409131831525\n"
     ]
    }
   ],
   "source": [
    "radians_to_degrees(14)"
   ]
  },
  {
   "cell_type": "code",
   "execution_count": 50,
   "id": "245fc202",
   "metadata": {},
   "outputs": [],
   "source": [
    "def area_circle_fn(rayon):\n",
    "    air = math.pi * pow(rayon, 2)\n",
    "    print(\"l'air du cercle de rayon\", rayon, 'est :', air)"
   ]
  },
  {
   "cell_type": "code",
   "execution_count": 53,
   "id": "b8f87609",
   "metadata": {},
   "outputs": [
    {
     "name": "stdout",
     "output_type": "stream",
     "text": [
      "l'air du cercle de rayon 2 est : 12.566370614359172\n"
     ]
    }
   ],
   "source": [
    "area_circle_fn(2)"
   ]
  },
  {
   "cell_type": "code",
   "execution_count": 55,
   "id": "d7eb5667",
   "metadata": {},
   "outputs": [],
   "source": [
    "def circumference_circle_fn(rayon):\n",
    "    circonf = math.pi * 2 * rayon\n",
    "    print('La circonférence du cercle de rayon ', rayon, 'est :', circonf)"
   ]
  },
  {
   "cell_type": "code",
   "execution_count": 58,
   "id": "a73f31c9",
   "metadata": {},
   "outputs": [
    {
     "name": "stdout",
     "output_type": "stream",
     "text": [
      "La circonférence du cercle de rayon  45 est : 282.7433388230814\n"
     ]
    }
   ],
   "source": [
    "circumference_circle_fn(45)"
   ]
  },
  {
   "cell_type": "markdown",
   "id": "e6037f82",
   "metadata": {},
   "source": [
    "Exercice 4"
   ]
  },
  {
   "cell_type": "code",
   "execution_count": null,
   "id": "6f762ec1",
   "metadata": {},
   "outputs": [],
   "source": [
    "a = float(input(\"Entre la valeur de a :\"))\n",
    "b = float(input(\"Entre la valeur de b :\"))\n",
    "\n",
    "average_means = (a + b)/2\n",
    "geom_mean = pow(a * b, 0.5)\n",
    "\n",
    "print('la moyenne de', a ,'et', b, 'est :', average_means)\n",
    "print('la moyenne arithmétique de ', a, 'et', b, 'est :', geom_mean)\n",
    "def avggeom(average_means, geom_mean):\n",
    "     for i in range(1,10):\n",
    "        aver = (average_means + geom_mean)/2\n",
    "        geom = pow(average_means * geom_mean, 0.5)\n",
    "        print('la moyenne de', average_means ,'et', geom_mean, 'est :', aver)\n",
    "        print('la moyenne arithmétique de ', average_means, 'et', geom_mean, 'est :', geom)\n",
    "            "
   ]
  }
 ],
 "metadata": {
  "kernelspec": {
   "display_name": "Python 3",
   "language": "python",
   "name": "python3"
  },
  "language_info": {
   "codemirror_mode": {
    "name": "ipython",
    "version": 3
   },
   "file_extension": ".py",
   "mimetype": "text/x-python",
   "name": "python",
   "nbconvert_exporter": "python",
   "pygments_lexer": "ipython3",
   "version": "3.8.5"
  }
 },
 "nbformat": 4,
 "nbformat_minor": 5
}
