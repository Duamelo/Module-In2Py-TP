{
 "cells": [
  {
   "cell_type": "markdown",
   "id": "c0f7f4a3",
   "metadata": {},
   "source": [
    "Execice 1"
   ]
  },
  {
   "cell_type": "code",
   "execution_count": 50,
   "id": "2faba209",
   "metadata": {},
   "outputs": [],
   "source": [
    "product_list_with_price={};\n",
    "product_list=[]"
   ]
  },
  {
   "cell_type": "code",
   "execution_count": 51,
   "id": "f40102a9",
   "metadata": {},
   "outputs": [],
   "source": [
    "def add_new_product(nom, prix):\n",
    "    product_list_with_price[nom] = prix;\n",
    "    product_list.append(nom);"
   ]
  },
  {
   "cell_type": "code",
   "execution_count": 52,
   "id": "3a42940b",
   "metadata": {},
   "outputs": [],
   "source": [
    "add_new_product('mangue', 100);\n",
    "add_new_product('pomme', 150);\n",
    "add_new_product('carrot', 75);\n",
    "add_new_product('citron', 25);\n",
    "add_new_product('avocat', 175);\n",
    "add_new_product('igname', 1000);"
   ]
  },
  {
   "cell_type": "code",
   "execution_count": 54,
   "id": "d17bdc42",
   "metadata": {},
   "outputs": [
    {
     "data": {
      "text/plain": [
       "{'mangue': 100,\n",
       " 'pomme': 150,\n",
       " 'carrot': 75,\n",
       " 'citron': 25,\n",
       " 'avocat': 175,\n",
       " 'igname': 1000}"
      ]
     },
     "execution_count": 54,
     "metadata": {},
     "output_type": "execute_result"
    }
   ],
   "source": [
    "product_list_with_price"
   ]
  },
  {
   "cell_type": "code",
   "execution_count": 55,
   "id": "4c3fc2a9",
   "metadata": {},
   "outputs": [
    {
     "data": {
      "text/plain": [
       "['mangue', 'pomme', 'carrot', 'citron', 'avocat', 'igname']"
      ]
     },
     "execution_count": 55,
     "metadata": {},
     "output_type": "execute_result"
    }
   ],
   "source": [
    "product_list"
   ]
  },
  {
   "cell_type": "code",
   "execution_count": 62,
   "id": "c1b2e6e7",
   "metadata": {},
   "outputs": [],
   "source": [
    "def change_price_of_product(nom_product, new_price):\n",
    "    i = j = 0;\n",
    "    for i in range(len(product_list)):\n",
    "        if product_list[i] == nom_product:\n",
    "            product_list_with_price[product_list[i]] = new_price;\n",
    "            return product_list_with_price[product_list[i]];"
   ]
  },
  {
   "cell_type": "code",
   "execution_count": 63,
   "id": "bc52a6eb",
   "metadata": {},
   "outputs": [],
   "source": [
    "change_price_of_product('mangue', 200);"
   ]
  },
  {
   "cell_type": "code",
   "execution_count": 64,
   "id": "e520e99b",
   "metadata": {},
   "outputs": [
    {
     "data": {
      "text/plain": [
       "200"
      ]
     },
     "execution_count": 64,
     "metadata": {},
     "output_type": "execute_result"
    }
   ],
   "source": [
    "product_list_with_price[product_list[0]]"
   ]
  },
  {
   "cell_type": "code",
   "execution_count": 65,
   "id": "e91bbf17",
   "metadata": {},
   "outputs": [
    {
     "data": {
      "text/plain": [
       "{'mangue': 200,\n",
       " 'pomme': 150,\n",
       " 'carrot': 75,\n",
       " 'citron': 25,\n",
       " 'avocat': 175,\n",
       " 'igname': 1000}"
      ]
     },
     "execution_count": 65,
     "metadata": {},
     "output_type": "execute_result"
    }
   ],
   "source": [
    "product_list_with_price"
   ]
  },
  {
   "cell_type": "code",
   "execution_count": 66,
   "id": "d783bedc",
   "metadata": {},
   "outputs": [],
   "source": [
    "def consult_price_of_product(nom_product):\n",
    "    i = j = 0;\n",
    "    for i in range(len(product_list)):\n",
    "        if product_list[i] == nom_product:\n",
    "            return product_list_with_price[product_list[i]];"
   ]
  },
  {
   "cell_type": "code",
   "execution_count": 67,
   "id": "b5b40680",
   "metadata": {},
   "outputs": [
    {
     "data": {
      "text/plain": [
       "150"
      ]
     },
     "execution_count": 67,
     "metadata": {},
     "output_type": "execute_result"
    }
   ],
   "source": [
    "consult_price_of_product('pomme')"
   ]
  },
  {
   "cell_type": "markdown",
   "id": "c47cb4a7",
   "metadata": {},
   "source": [
    "Exercice 2"
   ]
  },
  {
   "cell_type": "code",
   "execution_count": 68,
   "id": "cfd957e7",
   "metadata": {},
   "outputs": [],
   "source": [
    "phone_list_with_owner = {};\n",
    "owner_list = [];"
   ]
  },
  {
   "cell_type": "code",
   "execution_count": 86,
   "id": "ed91d67a",
   "metadata": {},
   "outputs": [],
   "source": [
    "def add_new_name_in_list(nom, phone):\n",
    "    phone_list_with_owner[nom] = phone;\n",
    "    owner_list.append(nom);"
   ]
  },
  {
   "cell_type": "code",
   "execution_count": 87,
   "id": "c2be21db",
   "metadata": {},
   "outputs": [],
   "source": [
    "add_new_name_in_list('David', 61088061);\n",
    "add_new_name_in_list('Franck', 81201563);\n",
    "add_new_name_in_list('Duamel', 71201563);\n",
    "add_new_name_in_list('Yann', 91200563);\n",
    "add_new_name_in_list('Honorat', 62201563);\n",
    "add_new_name_in_list('Andy', 61211463);\n",
    "add_new_name_in_list('Mike', 61801963);"
   ]
  },
  {
   "cell_type": "code",
   "execution_count": 88,
   "id": "29d86013",
   "metadata": {},
   "outputs": [
    {
     "data": {
      "text/plain": [
       "{'David': 61088061,\n",
       " 'Franck': 81201563,\n",
       " 'Duamel': 71201563,\n",
       " 'Yann': 91200563,\n",
       " 'Honorat': 62201563,\n",
       " 'Andy': 61211463,\n",
       " 'Mike': 61801963}"
      ]
     },
     "execution_count": 88,
     "metadata": {},
     "output_type": "execute_result"
    }
   ],
   "source": [
    "phone_list_with_owner"
   ]
  },
  {
   "cell_type": "code",
   "execution_count": 89,
   "id": "a6fe317a",
   "metadata": {},
   "outputs": [
    {
     "data": {
      "text/plain": [
       "['David', 'Franck', 'Duamel', 'Yann', 'Honorat', 'Andy', 'Mike']"
      ]
     },
     "execution_count": 89,
     "metadata": {},
     "output_type": "execute_result"
    }
   ],
   "source": [
    "owner_list"
   ]
  },
  {
   "cell_type": "code",
   "execution_count": 92,
   "id": "30758d92",
   "metadata": {},
   "outputs": [],
   "source": [
    "def check_phone(nom):\n",
    "    i = 0;\n",
    "    for i in range(len(owner_list)):\n",
    "        if owner_list[i] == nom:\n",
    "            return print(phone_list_with_owner[owner_list[i]]);"
   ]
  },
  {
   "cell_type": "code",
   "execution_count": 93,
   "id": "169305e1",
   "metadata": {},
   "outputs": [
    {
     "name": "stdout",
     "output_type": "stream",
     "text": [
      "61088061\n"
     ]
    }
   ],
   "source": [
    "check_phone('David');"
   ]
  },
  {
   "cell_type": "code",
   "execution_count": 94,
   "id": "352ae6e5",
   "metadata": {},
   "outputs": [],
   "source": [
    "def check_name(phone):\n",
    "    i = 0;\n",
    "    for i in range(len(owner_list)):\n",
    "        if phone_list_with_owner[owner_list[i]] == phone:\n",
    "            return print(owner_list[i]);"
   ]
  },
  {
   "cell_type": "code",
   "execution_count": 95,
   "id": "d1aca4ae",
   "metadata": {},
   "outputs": [
    {
     "name": "stdout",
     "output_type": "stream",
     "text": [
      "David\n"
     ]
    }
   ],
   "source": [
    "check_name(61088061);"
   ]
  },
  {
   "cell_type": "code",
   "execution_count": 96,
   "id": "47751418",
   "metadata": {},
   "outputs": [],
   "source": [
    "def print_all_list():\n",
    "    return print(phone_list_with_owner);"
   ]
  },
  {
   "cell_type": "code",
   "execution_count": 97,
   "id": "526a8acd",
   "metadata": {},
   "outputs": [
    {
     "name": "stdout",
     "output_type": "stream",
     "text": [
      "{'David': 61088061, 'Franck': 81201563, 'Duamel': 71201563, 'Yann': 91200563, 'Honorat': 62201563, 'Andy': 61211463, 'Mike': 61801963}\n"
     ]
    }
   ],
   "source": [
    "print_all_list()"
   ]
  },
  {
   "cell_type": "markdown",
   "id": "26b2f666",
   "metadata": {},
   "source": [
    "Exercice 3"
   ]
  },
  {
   "cell_type": "code",
   "execution_count": 99,
   "id": "6f0a03f3",
   "metadata": {},
   "outputs": [
    {
     "name": "stdout",
     "output_type": "stream",
     "text": [
      "David a pour longueur  5\n",
      "Franck a pour longueur  6\n",
      "papaye a pour longueur  6\n",
      "tomate a pour longueur  6\n",
      "azertyu a pour longueur  7\n",
      "qsdfghj a pour longueur  7\n",
      "az a pour longueur  2\n"
     ]
    }
   ],
   "source": [
    "list_words = ['David', 'Franck', 'papaye', 'tomate', 'azertyu', 'qsdfghj', \"az\"];\n",
    "list_lenght = [];\n",
    "for i in range(len(list_words)):\n",
    "    list_lenght.append(len(list_words[i]));\n",
    "for lenght, word in zip(list_lenght, list_words):\n",
    "    print(word, 'a pour longueur ', lenght);"
   ]
  },
  {
   "cell_type": "markdown",
   "id": "b09f4146",
   "metadata": {},
   "source": [
    "Exercice 4"
   ]
  },
  {
   "cell_type": "code",
   "execution_count": 110,
   "id": "a0b60a66",
   "metadata": {},
   "outputs": [],
   "source": [
    "liste = ['azerty', 'poa', 'qsdfg', 'banane', 'goyave', 'bg', 'azertyqsdfgh', 'anticonstitutionnellement', \"inimaginable\"];\n",
    "def find_longest_word(list_of_word):\n",
    "    i = 0;\n",
    "    max_lenght = 0;\n",
    "    for i in range(len(list_of_word)):\n",
    "        if max_lenght <= len(list_of_word[i]):\n",
    "            max_lenght = len(list_of_word[i]);\n",
    "    return print(max_lenght);"
   ]
  },
  {
   "cell_type": "code",
   "execution_count": 111,
   "id": "d6046d1e",
   "metadata": {},
   "outputs": [
    {
     "name": "stdout",
     "output_type": "stream",
     "text": [
      "25\n"
     ]
    }
   ],
   "source": [
    "find_longest_word(liste);"
   ]
  },
  {
   "cell_type": "markdown",
   "id": "aeeff6b2",
   "metadata": {},
   "source": [
    "Exercice 6"
   ]
  },
  {
   "cell_type": "code",
   "execution_count": 113,
   "id": "6a9c111d",
   "metadata": {},
   "outputs": [],
   "source": [
    "values_list = ['azer', 2, 'papa', 'tomate', 'goy', '5'];\n"
   ]
  },
  {
   "cell_type": "code",
   "execution_count": 119,
   "id": "82d94505",
   "metadata": {},
   "outputs": [],
   "source": [
    "def is_member(x, liste):\n",
    "    i = j = 0;\n",
    "    for i in range(len(liste)):\n",
    "        if liste[i] == x:\n",
    "            return print('True');\n",
    "    return print('False');"
   ]
  },
  {
   "cell_type": "code",
   "execution_count": 122,
   "id": "f9bace12",
   "metadata": {},
   "outputs": [
    {
     "name": "stdout",
     "output_type": "stream",
     "text": [
      "False\n"
     ]
    }
   ],
   "source": [
    "is_member(9, values_list);"
   ]
  },
  {
   "cell_type": "markdown",
   "id": "0d4fcf21",
   "metadata": {},
   "source": [
    "Exercice 7"
   ]
  },
  {
   "cell_type": "code",
   "execution_count": 129,
   "id": "12dd2ab7",
   "metadata": {},
   "outputs": [],
   "source": [
    "def histogram(liste):\n",
    "    i = j = 0;\n",
    "    for i in range(len(liste)):\n",
    "        print(liste[i] * '*');\n",
    "        print(\"\\t\");"
   ]
  },
  {
   "cell_type": "code",
   "execution_count": 130,
   "id": "532b3b27",
   "metadata": {},
   "outputs": [
    {
     "name": "stdout",
     "output_type": "stream",
     "text": [
      "****\n",
      "\t\n",
      "*********\n",
      "\t\n",
      "******\n",
      "\t\n"
     ]
    }
   ],
   "source": [
    "histogram([4,9,6]);"
   ]
  },
  {
   "cell_type": "markdown",
   "id": "d7524395",
   "metadata": {},
   "source": [
    "Exercice 8"
   ]
  },
  {
   "cell_type": "code",
   "execution_count": 133,
   "id": "9f627b24",
   "metadata": {},
   "outputs": [],
   "source": [
    "Amour = {\n",
    "    \"name\": \"Amour\",\n",
    "    \"homework\": [90.0,97.0,75.0,92.0],\n",
    "    \"quizzes\": [88.0,40.0,94.0],\n",
    "    \"tests\": [75.0,90.0]\n",
    "};\n",
    "\n",
    "Paix = {\n",
    "    \"name\": \"Paix\",\n",
    "    \"homework\": [100.0, 92.0, 98.0, 100.0],\n",
    "    \"quizzes\": [82.0, 83.0, 91.0],\n",
    "    \"tests\": [89.0, 97.0]\n",
    "};\n",
    "\n",
    "Foi = {\n",
    "    \"name\": \"Foi\",\n",
    "    \"homework\": [0.0, 87.0, 75.0, 22.0],\n",
    "    \"quizzes\": [0.0, 75.0, 78.0],\n",
    "    \"tests\": [100.0, 100.0]\n",
    "};\n",
    "\n",
    "students = [Amour, Paix, Foi];"
   ]
  },
  {
   "cell_type": "code",
   "execution_count": 140,
   "id": "62fcdac5",
   "metadata": {},
   "outputs": [],
   "source": [
    "def print_student():\n",
    "    i = 0;\n",
    "    for i in range(len(students)):\n",
    "        print(\"==========================\");\n",
    "        print('Nom:' , students[i]['name']);\n",
    "        print('homework: ', students[i]['homework']);\n",
    "        print('quizzes : ', students[i]['quizzes']);\n",
    "        print('tests :', students[i]['tests']);\n",
    "        print(\"==========================\");"
   ]
  },
  {
   "cell_type": "code",
   "execution_count": 141,
   "id": "73e8dda5",
   "metadata": {},
   "outputs": [
    {
     "name": "stdout",
     "output_type": "stream",
     "text": [
      "==========================\n",
      "Nom: Amour\n",
      "homework:  [90.0, 97.0, 75.0, 92.0]\n",
      "quizzes :  [88.0, 40.0, 94.0]\n",
      "tests : [75.0, 90.0]\n",
      "==========================\n",
      "==========================\n",
      "Nom: Paix\n",
      "homework:  [100.0, 92.0, 98.0, 100.0]\n",
      "quizzes :  [82.0, 83.0, 91.0]\n",
      "tests : [89.0, 97.0]\n",
      "==========================\n",
      "==========================\n",
      "Nom: Foi\n",
      "homework:  [0.0, 87.0, 75.0, 22.0]\n",
      "quizzes :  [0.0, 75.0, 78.0]\n",
      "tests : [100.0, 100.0]\n",
      "==========================\n"
     ]
    }
   ],
   "source": [
    "print_student();"
   ]
  },
  {
   "cell_type": "code",
   "execution_count": 165,
   "id": "c6c88e93",
   "metadata": {},
   "outputs": [],
   "source": [
    "def average(list_of_numbers):\n",
    "    i  = averag = total = 0;\n",
    "    total = sum(list_of_numbers);\n",
    "    averag = total / len(list_of_numbers);\n",
    "    return  averag;"
   ]
  },
  {
   "cell_type": "code",
   "execution_count": 166,
   "id": "73982225",
   "metadata": {},
   "outputs": [],
   "source": [
    "result = average([10, 11]);"
   ]
  },
  {
   "cell_type": "code",
   "execution_count": 161,
   "id": "6d802a85",
   "metadata": {},
   "outputs": [],
   "source": [
    "def get_average(student):\n",
    "    homework = average(student[\"homework\"]);\n",
    "    quizzes = average(student[\"quizzes\"]);\n",
    "    tests = average(student[\"tests\"]);\n",
    "    somme = homework * 0.1 + quizzes * 0.3 + tests * 0.6;\n",
    "    return print(somme);\n"
   ]
  },
  {
   "cell_type": "code",
   "execution_count": 162,
   "id": "96b7545a",
   "metadata": {},
   "outputs": [
    {
     "name": "stdout",
     "output_type": "stream",
     "text": [
      "80.55\n"
     ]
    }
   ],
   "source": [
    "get_average(Amour);"
   ]
  },
  {
   "cell_type": "code",
   "execution_count": null,
   "id": "f1c1d797",
   "metadata": {},
   "outputs": [],
   "source": []
  }
 ],
 "metadata": {
  "kernelspec": {
   "display_name": "Python 3",
   "language": "python",
   "name": "python3"
  },
  "language_info": {
   "codemirror_mode": {
    "name": "ipython",
    "version": 3
   },
   "file_extension": ".py",
   "mimetype": "text/x-python",
   "name": "python",
   "nbconvert_exporter": "python",
   "pygments_lexer": "ipython3",
   "version": "3.8.5"
  }
 },
 "nbformat": 4,
 "nbformat_minor": 5
}
